{
  "nbformat": 4,
  "nbformat_minor": 0,
  "metadata": {
    "colab": {
      "provenance": [],
      "authorship_tag": "ABX9TyOLUv0rTNl3cxifPQZoXyKQ",
      "include_colab_link": true
    },
    "kernelspec": {
      "name": "python3",
      "display_name": "Python 3"
    },
    "language_info": {
      "name": "python"
    }
  },
  "cells": [
    {
      "cell_type": "markdown",
      "metadata": {
        "id": "view-in-github",
        "colab_type": "text"
      },
      "source": [
        "<a href=\"https://colab.research.google.com/github/olu-sikeh/Oluomachi_DTSC3020_Fall2025/blob/main/DTSC_in_class_exercise_01.ipynb\" target=\"_parent\"><img src=\"https://colab.research.google.com/assets/colab-badge.svg\" alt=\"Open In Colab\"/></a>"
      ]
    },
    {
      "cell_type": "code",
      "execution_count": 8,
      "metadata": {
        "colab": {
          "base_uri": "https://localhost:8080/"
        },
        "id": "S1tLlqX0P8cU",
        "outputId": "80d6a23d-7373-4a22-c4bc-f3d50f1bd9b5"
      },
      "outputs": [
        {
          "output_type": "stream",
          "name": "stdout",
          "text": [
            "Welcome to python\n",
            "Hello\n",
            "hi\n",
            "Oluomachi Anosikeh\n"
          ]
        }
      ],
      "source": [
        "print(\"Welcome to python\")\n",
        "print(\"Hello\")\n",
        "print(\"hi\")\n",
        "print(\"Oluomachi Anosikeh\")"
      ]
    },
    {
      "cell_type": "code",
      "source": [
        "name= \"Venus\"\n",
        "print(name)\n",
        "print(\"Welcome to Python,\",name)"
      ],
      "metadata": {
        "colab": {
          "base_uri": "https://localhost:8080/"
        },
        "id": "DNyVhCykTYKi",
        "outputId": "88b396f1-d00d-4ae3-9c7d-d4b07e572a0e"
      },
      "execution_count": 9,
      "outputs": [
        {
          "output_type": "stream",
          "name": "stdout",
          "text": [
            "Venus\n",
            "Welcome to Python, Venus\n"
          ]
        }
      ]
    }
  ]
}