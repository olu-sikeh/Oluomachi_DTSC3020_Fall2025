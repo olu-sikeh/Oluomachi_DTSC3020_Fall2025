{
  "nbformat": 4,
  "nbformat_minor": 0,
  "metadata": {
    "colab": {
      "provenance": [],
      "authorship_tag": "ABX9TyMyLcDllH4wQEGRuJIxfrEA",
      "include_colab_link": true
    },
    "kernelspec": {
      "name": "python3",
      "display_name": "Python 3"
    },
    "language_info": {
      "name": "python"
    }
  },
  "cells": [
    {
      "cell_type": "markdown",
      "metadata": {
        "id": "view-in-github",
        "colab_type": "text"
      },
      "source": [
        "<a href=\"https://colab.research.google.com/github/olu-sikeh/Oluomachi_DTSC3020_Fall2025/blob/main/DTSC3020_Assignment_2.ipynb\" target=\"_parent\"><img src=\"https://colab.research.google.com/assets/colab-badge.svg\" alt=\"Open In Colab\"/></a>"
      ]
    },
    {
      "cell_type": "markdown",
      "source": [
        "Step 1\n",
        "\n"
      ],
      "metadata": {
        "id": "2a-am26qty_0"
      }
    },
    {
      "cell_type": "code",
      "execution_count": 60,
      "metadata": {
        "colab": {
          "base_uri": "https://localhost:8080/"
        },
        "id": "Pt43-D3Qr_Pw",
        "outputId": "cc360fd3-1bae-4fe5-b22f-fe8a396411da"
      },
      "outputs": [
        {
          "output_type": "stream",
          "name": "stdout",
          "text": [
            "['apple', 'blueberry', 'grape']\n"
          ]
        }
      ],
      "source": [
        "fruits = [\"apple\", \"blueberry\", \"grape\"]\n",
        "print(fruits)"
      ]
    },
    {
      "cell_type": "code",
      "source": [
        "for x in fruits:\n",
        "    print(x)"
      ],
      "metadata": {
        "colab": {
          "base_uri": "https://localhost:8080/"
        },
        "id": "VCdIqohKsn9z",
        "outputId": "3783ec22-ded0-41ca-e7b8-a447c31d27d2"
      },
      "execution_count": 61,
      "outputs": [
        {
          "output_type": "stream",
          "name": "stdout",
          "text": [
            "apple\n",
            "blueberry\n",
            "grape\n"
          ]
        }
      ]
    },
    {
      "cell_type": "markdown",
      "source": [
        "Step 2"
      ],
      "metadata": {
        "id": "OknSU-vstvmN"
      }
    },
    {
      "cell_type": "code",
      "source": [
        "names=[\"Amy\", \"Sam\", \"Mekhi\", \"Dani\"]\n",
        "names[0] = \"Liana\"\n",
        "print(names)"
      ],
      "metadata": {
        "colab": {
          "base_uri": "https://localhost:8080/"
        },
        "id": "HcY2PkGitIzd",
        "outputId": "df21c87f-d129-45fc-ad5c-a403b7a09b4a"
      },
      "execution_count": 62,
      "outputs": [
        {
          "output_type": "stream",
          "name": "stdout",
          "text": [
            "['Liana', 'Sam', 'Mekhi', 'Dani']\n"
          ]
        }
      ]
    },
    {
      "cell_type": "markdown",
      "source": [
        "Step 3"
      ],
      "metadata": {
        "id": "ez0CZU4ut50X"
      }
    },
    {
      "cell_type": "code",
      "source": [
        "vehicles = [\"car\", \"scooter\", \"plane\", \"bus\", \"train\"]\n",
        "vehicles.append(\"bike\")\n",
        "print(vehicles)"
      ],
      "metadata": {
        "colab": {
          "base_uri": "https://localhost:8080/"
        },
        "id": "HZ4omQmLtaP7",
        "outputId": "07a88ea6-fbf2-4563-b6b5-709fdf9a7dba"
      },
      "execution_count": 63,
      "outputs": [
        {
          "output_type": "stream",
          "name": "stdout",
          "text": [
            "['car', 'scooter', 'plane', 'bus', 'train', 'bike']\n"
          ]
        }
      ]
    },
    {
      "cell_type": "markdown",
      "source": [
        "Step 4"
      ],
      "metadata": {
        "id": "g9ntEsOrt-7c"
      }
    },
    {
      "cell_type": "code",
      "source": [
        "foods = [\"pizza\", \"tacos\", \"wings\", \"cookies\", \"ice cream\", \"cereal\"]\n",
        "foods.remove(\"wings\")\n",
        "print(foods)"
      ],
      "metadata": {
        "colab": {
          "base_uri": "https://localhost:8080/"
        },
        "id": "BW0uvJ2pt9Tz",
        "outputId": "423f5b5a-878d-4b92-f06e-c4009efe443b"
      },
      "execution_count": 64,
      "outputs": [
        {
          "output_type": "stream",
          "name": "stdout",
          "text": [
            "['pizza', 'tacos', 'cookies', 'ice cream', 'cereal']\n"
          ]
        }
      ]
    },
    {
      "cell_type": "markdown",
      "source": [
        "Step 5"
      ],
      "metadata": {
        "id": "PJ3y-TBRuO3k"
      }
    },
    {
      "cell_type": "code",
      "source": [
        "cities = [\"Chicago\", \"New York\", \"Los Angeles\", \"San Francisco\"]\n",
        "cities.sort()\n",
        "print(cities)\n",
        "cities.reverse()\n",
        "print(cities)"
      ],
      "metadata": {
        "colab": {
          "base_uri": "https://localhost:8080/"
        },
        "id": "ghWyIqtUuR1q",
        "outputId": "79696330-4195-4c95-c9de-14ad3e4cd731"
      },
      "execution_count": 65,
      "outputs": [
        {
          "output_type": "stream",
          "name": "stdout",
          "text": [
            "['Chicago', 'Los Angeles', 'New York', 'San Francisco']\n",
            "['San Francisco', 'New York', 'Los Angeles', 'Chicago']\n"
          ]
        }
      ]
    },
    {
      "cell_type": "markdown",
      "source": [
        "Step 6"
      ],
      "metadata": {
        "id": "4yo2Nlk6uvmq"
      }
    },
    {
      "cell_type": "code",
      "source": [
        "animals = [\"dog\", \"bird\", \"chicken\"]\n",
        "for animal in animals:\n",
        "  print(animal)"
      ],
      "metadata": {
        "colab": {
          "base_uri": "https://localhost:8080/"
        },
        "id": "3TivKJfruxaR",
        "outputId": "2b53b068-1c43-4389-872c-ba18d75e6722"
      },
      "execution_count": 66,
      "outputs": [
        {
          "output_type": "stream",
          "name": "stdout",
          "text": [
            "dog\n",
            "bird\n",
            "chicken\n"
          ]
        }
      ]
    },
    {
      "cell_type": "markdown",
      "source": [
        "Step 7"
      ],
      "metadata": {
        "id": "0XtyFNjnu8vl"
      }
    },
    {
      "cell_type": "code",
      "source": [
        "num = [1, 2, 3, 4, 5]\n",
        "for x in num:\n",
        "  print(x * 2)"
      ],
      "metadata": {
        "colab": {
          "base_uri": "https://localhost:8080/"
        },
        "id": "3JCmhb3yu9_O",
        "outputId": "946b7838-0ea3-4f4d-e5cf-6fe8e496727f"
      },
      "execution_count": 67,
      "outputs": [
        {
          "output_type": "stream",
          "name": "stdout",
          "text": [
            "2\n",
            "4\n",
            "6\n",
            "8\n",
            "10\n"
          ]
        }
      ]
    },
    {
      "cell_type": "markdown",
      "source": [
        "Step 8"
      ],
      "metadata": {
        "id": "Hf_PtXtIvH6F"
      }
    },
    {
      "cell_type": "code",
      "source": [
        "friends = [\"Lizzy\", \"Sydney\", \"Vanessa\", \"Zoey\", \"Sue\", \"Eli\"]\n",
        "print(friends[:3])\n",
        "print(friends[-3:])"
      ],
      "metadata": {
        "colab": {
          "base_uri": "https://localhost:8080/"
        },
        "id": "vEKBL2dIvJKh",
        "outputId": "14eb19d5-ecce-48f0-c7e8-2bc529b0d315"
      },
      "execution_count": 68,
      "outputs": [
        {
          "output_type": "stream",
          "name": "stdout",
          "text": [
            "['Lizzy', 'Sydney', 'Vanessa']\n",
            "['Zoey', 'Sue', 'Eli']\n"
          ]
        }
      ]
    },
    {
      "cell_type": "markdown",
      "source": [
        "Step 9"
      ],
      "metadata": {
        "id": "YuPDH8yGvcr4"
      }
    },
    {
      "cell_type": "code",
      "source": [
        "numbers = list(range(1, 11))\n",
        "print(numbers)"
      ],
      "metadata": {
        "colab": {
          "base_uri": "https://localhost:8080/"
        },
        "id": "JwLuZcJevezx",
        "outputId": "f8318677-35af-4a3f-fe6f-faeeaeb81153"
      },
      "execution_count": 69,
      "outputs": [
        {
          "output_type": "stream",
          "name": "stdout",
          "text": [
            "[1, 2, 3, 4, 5, 6, 7, 8, 9, 10]\n"
          ]
        }
      ]
    },
    {
      "cell_type": "markdown",
      "source": [
        "Step 10"
      ],
      "metadata": {
        "id": "Phd_NU1lvonu"
      }
    },
    {
      "cell_type": "code",
      "source": [
        "squares = [x**2 for x in range(1, 6)]\n",
        "print(squares)"
      ],
      "metadata": {
        "colab": {
          "base_uri": "https://localhost:8080/"
        },
        "id": "eYhJTDpvvp3x",
        "outputId": "529d3296-ce6d-4f21-d926-ccd3b9e946a9"
      },
      "execution_count": 70,
      "outputs": [
        {
          "output_type": "stream",
          "name": "stdout",
          "text": [
            "[1, 4, 9, 16, 25]\n"
          ]
        }
      ]
    }
  ]
}